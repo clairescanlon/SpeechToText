{
  "metadata": {
    "language_info": {
      "name": ""
    },
    "kernelspec": {
      "name": "python",
      "display_name": "Python (Pyodide)",
      "language": "python"
    }
  },
  "nbformat_minor": 4,
  "nbformat": 4,
  "cells": [
    {
      "cell_type": "code",
      "source": "#Importing Programs\nimport pyttsx3 \nimport speech_recognition as sr \nimport os \n",
      "metadata": {
        "trusted": true
      },
      "execution_count": null,
      "outputs": []
    },
    {
      "cell_type": "code",
      "source": "engine = pyttsx3.init('sapi5')\nvoices = engine.getProperty('voices') \n#print(voices[1].id) \nengine.setProperty('voice',voices[0].id) ",
      "metadata": {
        "trusted": true
      },
      "execution_count": null,
      "outputs": []
    },
    {
      "cell_type": "code",
      "source": "def speak(audio): \nengine.say(audio) \nengine.runAndWait() \n",
      "metadata": {
        "trusted": true
      },
      "execution_count": null,
      "outputs": []
    },
    {
      "cell_type": "code",
      "source": "def get(): \nr = sr.Recognizer()",
      "metadata": {
        "trusted": true
      },
      "execution_count": null,
      "outputs": []
    },
    {
      "cell_type": "code",
      "source": "with sr.Microphone() as source: \nprint('say something!') \naudio = r.listen(source)\nprint(\"done\") \ntry:\ntext = r.recognize_google(audio) \nprint('google think you said:\\n' +text) \nexcept Exception as \ne: print(e) ",
      "metadata": {
        "trusted": true
      },
      "execution_count": null,
      "outputs": []
    },
    {
      "cell_type": "code",
      "source": "remember = open('output.txt','w') ​\nremember.write(text) ​\nremember.close() get()\n",
      "metadata": {
        "trusted": true
      },
      "execution_count": null,
      "outputs": []
    },
    {
      "cell_type": "code",
      "source": "",
      "metadata": {},
      "execution_count": null,
      "outputs": []
    }
  ]
}